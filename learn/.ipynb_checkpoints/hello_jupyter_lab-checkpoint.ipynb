{
 "cells": [
  {
   "cell_type": "markdown",
   "metadata": {},
   "source": [
    "# jupyter lab 入门"
   ]
  },
  {
   "cell_type": "markdown",
   "metadata": {},
   "source": [
    "[toc]"
   ]
  },
  {
   "cell_type": "markdown",
   "metadata": {},
   "source": [
    "## 介绍\n",
    "JupyterLab是 Project Jupyter的下一代用户界面，提供所有熟悉的经典Jupyter笔记本构建模块（Notebook，终端，文本编辑器，文件浏览器，丰富的输出等），还有灵活而强大的用户界面。Jupyterlab 的基本理念是将经典 notebook 中的所有功能以及新特性整合在一起。\n",
    "\n",
    "JupyterLab是一个可扩展的环境。这些扩展是非常强大的工具，可以提高工作效率。JupyterLab扩展，其实是 npm包（Java开发中的标准包格式）。在GitHub上有许多社区开发的扩展。您可以搜索GitHub主题 jupyterlab-extension来查找扩展名。\n"
   ]
  },
  {
   "cell_type": "markdown",
   "metadata": {},
   "source": [
    "## 启动\n",
    "\n",
    "最好的方法是在pycharm中的terminal中输入命令启动，第一，这在对应的虚拟环境中（pycharm建立的conda环境），第二，这能在jupyter中直接打开当前目录。\n",
    "\n",
    "> 启动notebook\n",
    ">\n",
    "> jupyter notebook\n",
    ">\n",
    "> 启动lab\n",
    ">\n",
    "> jupyter lab"
   ]
  },
  {
   "cell_type": "markdown",
   "metadata": {},
   "source": [
    "## 快捷键\n",
    "https://blog.csdn.net/weixin_44676081/article/details/102703646"
   ]
  },
  {
   "cell_type": "markdown",
   "metadata": {},
   "source": [
    "### 命令模式（ESC开启）\n",
    "\n",
    "**注意，所有操作都应该在cell左侧，基本操作和文件操作类似，如复制，粘贴，多个选中，全选等等**\n",
    "\n",
    "**Enter 转入编辑模式**\n",
    "\n",
    "Ctrol-B 打开关闭文件树\n",
    "\n",
    "Shift-Enter 运行本单元，选中下个单元\n",
    "\n",
    "Ctrl-Enter 运行本单元\n",
    "\n",
    "Alt-Enter 运行本单元，在其下插入新单元\n",
    "\n",
    "**Y 单元转入代码状态**\n",
    "\n",
    "**M 单元转入markdown状态**\n",
    "\n",
    "**R 单元转入raw状态**\n",
    "\n",
    "**1 设定 1 级标题**\n",
    "\n",
    "Up 选中上方单元\n",
    "\n",
    "Down 选中下方单元\n",
    "\n",
    "**A 在上方插入新单元**\n",
    "\n",
    "**B 在下方插入新单元**\n",
    "\n",
    "**X 剪切选中的单元**\n",
    "\n",
    "**C 复制选中的单元**\n",
    "\n",
    "**V 粘贴到下方单元**\n",
    "\n",
    "**Z 恢复删除的最后一个单元**\n",
    "\n",
    "**D,D 删除选中的单元**\n",
    "\n",
    "Q 关闭页面\n",
    "\n",
    "H 显示快捷键帮助\n",
    "\n",
    "0,0 重启Notebook内核\n",
    "\n",
    "Shift-Space 向上滚动\n",
    "\n",
    "Space 向下滚动"
   ]
  },
  {
   "cell_type": "markdown",
   "metadata": {},
   "source": [
    "### 编辑模式 ( Enter 键启动)\n",
    "\n",
    "**Ctrl-M 进入命令模式**\n",
    "\n",
    "**Esc 进入命令模式**\n",
    "\n",
    "Tab 代码补全或缩进\n",
    "\n",
    "Shift-Tab 提示\n",
    "\n",
    "**Ctrl-] 缩进**\n",
    "\n",
    "**Ctrl-] 解除缩进**\n",
    "\n",
    "Ctrl-A 全选\n",
    "\n",
    "Ctrl-Z 复原\n",
    "\n",
    "Ctrl-Up 跳到单元开头\n",
    "\n",
    "Ctrl-End 跳到单元末尾\n",
    "\n",
    "Shift-Enter 运行本单元，选中下一单元\n",
    "\n",
    "Ctrl-Enter 运行本单元\n",
    "\n",
    "Alt-Enter 运行本单元，在下面插入一单元"
   ]
  },
  {
   "cell_type": "code",
   "execution_count": null,
   "metadata": {},
   "outputs": [],
   "source": []
  }
 ],
 "metadata": {
  "kernelspec": {
   "display_name": "Python 3",
   "language": "python",
   "name": "python3"
  },
  "language_info": {
   "codemirror_mode": {
    "name": "ipython",
    "version": 3
   },
   "file_extension": ".py",
   "mimetype": "text/x-python",
   "name": "python",
   "nbconvert_exporter": "python",
   "pygments_lexer": "ipython3",
   "version": "3.7.6"
  }
 },
 "nbformat": 4,
 "nbformat_minor": 4
}
